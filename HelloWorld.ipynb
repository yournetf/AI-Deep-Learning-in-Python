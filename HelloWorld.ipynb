{
 "cells": [
  {
   "cell_type": "code",
   "id": "e215fe67-46a1-4733-ad0d-e9c83d1439f0",
   "metadata": {
    "jupyter": {
     "is_executing": true
    }
   },
   "source": [],
   "outputs": [],
   "execution_count": null
  }
 ],
 "metadata": {
  "kernelspec": {
   "display_name": "",
   "name": ""
  },
  "language_info": {
   "name": ""
  }
 },
 "nbformat": 4,
 "nbformat_minor": 5
}
